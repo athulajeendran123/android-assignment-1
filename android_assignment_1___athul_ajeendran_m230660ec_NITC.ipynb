{
  "nbformat": 4,
  "nbformat_minor": 0,
  "metadata": {
    "colab": {
      "provenance": []
    },
    "kernelspec": {
      "name": "python3",
      "display_name": "Python 3"
    },
    "language_info": {
      "name": "python"
    }
  },
  "cells": [
    {
      "cell_type": "code",
      "execution_count": null,
      "metadata": {
        "colab": {
          "base_uri": "https://localhost:8080/"
        },
        "id": "Lvmyo4Gq7Q9E",
        "outputId": "696d7c56-579d-4ecb-a90b-4090c1564667"
      },
      "outputs": [
        {
          "output_type": "stream",
          "name": "stdout",
          "text": [
            "1\n",
            "-1\n",
            "-1\n",
            "3\n"
          ]
        }
      ],
      "source": [
        "# Q1. Design and implement a Least Recently Used (LRU) Cache. A cache has a fixed capacity, and when it exceeds that capacity, it must evict the least recently used item to make space for the new one.\n",
        "# Implement the following operations:\n",
        "# get(key): Return the value of the key if it exists in the cache, otherwise return -1.\n",
        "# put(key, value): Update or insert the value. If the cache is full, remove the least recently used item before inserting.\n",
        "# Function Signatures:\n",
        "# class LRUCache {\n",
        "# public:\n",
        "#     LRUCache(int capacity);\n",
        "#     int get(int key);\n",
        "#     void put(int key, int value);\n",
        "# };\n",
        "# Constraints:\n",
        "# 1 <= capacity <= 3000\n",
        "# 0 <= key, value <= 10^4\n",
        "# Maximum number of operations: 10^5\n",
        "# All operations must be done in O(1) time complexity.\n",
        "\n",
        "# ANSWER\n",
        "\n",
        "from collections import OrderedDict\n",
        "\n",
        "class LRUCache:\n",
        "    def __init__(self, capacity: int):\n",
        "        self.cache = OrderedDict()\n",
        "        self.capacity = capacity\n",
        "\n",
        "    def get(self, key: int) -> int:\n",
        "        if key not in self.cache:\n",
        "            return -1\n",
        "        # Move key to end to mark as recently used\n",
        "        self.cache.move_to_end(key)\n",
        "        return self.cache[key]\n",
        "\n",
        "    def put(self, key: int, value: int) -> None:\n",
        "        if key in self.cache:\n",
        "            # Update value and mark as recently used\n",
        "            self.cache.move_to_end(key)\n",
        "        self.cache[key] = value\n",
        "        if len(self.cache) > self.capacity:\n",
        "            # Remove least recently used (first item)\n",
        "            self.cache.popitem(last=False)\n",
        "\n",
        "# Example :\n",
        "lru = LRUCache(2)\n",
        "lru.put(1, 1)\n",
        "lru.put(2, 2)\n",
        "print(lru.get(1))\n",
        "lru.put(3, 3)\n",
        "print(lru.get(2))\n",
        "lru.put(4, 4)\n",
        "print(lru.get(1))\n",
        "print(lru.get(3))\n",
        "\n"
      ]
    },
    {
      "cell_type": "code",
      "source": [
        "#\n",
        "# Q2. Problem Statement:\n",
        "# You are required to implement a simplified version of a HashMap (also known as an unordered map or dictionary), without using built-in hash table libraries like unordered_map, map, dict, or similar.\n",
        "# Design a data structure that supports the following operations in average-case O(1) time:\n",
        "# put(key, value) → Insert or update the value by key.\n",
        "# get(key) → Return the value associated with the key. If not found, return -1.\n",
        "# remove(key) → Remove the key from the map.\n",
        "# Function Signatures:\n",
        "# class MyHashMap {\n",
        "# public:\n",
        "#     MyHashMap();\n",
        "#     void put(int key, int value);\n",
        "#     int get(int key);\n",
        "#     void remove(int key);\n",
        "# };\n",
        "# Constraints:\n",
        "# All keys and values are integers.\n",
        "# 0 <= key, value <= 10^6\n",
        "# Keys are unique within the map.\n",
        "# Maximum operations: 10^5\\\n",
        "# Do not use built-in hash maps or dictionaries.\n",
        "\n",
        "\n",
        "# ANSWER\n",
        "\n",
        "\n",
        "class MyHashMap:\n",
        "    def __init__(self):\n",
        "        self.size = 1009  # A prime number to reduce collisions\n",
        "        self.buckets = [[] for _ in range(self.size)]\n",
        "\n",
        "    def _hash(self, key):\n",
        "        return key % self.size\n",
        "\n",
        "    def put(self, key: int, value: int) -> None:\n",
        "        h = self._hash(key)\n",
        "        for i, (k, v) in enumerate(self.buckets[h]):\n",
        "            if k == key:\n",
        "                self.buckets[h][i] = (key, value)\n",
        "                return\n",
        "        self.buckets[h].append((key, value))\n",
        "\n",
        "    def get(self, key: int) -> int:\n",
        "        h = self._hash(key)\n",
        "        for k, v in self.buckets[h]:\n",
        "            if k == key:\n",
        "                return v\n",
        "        return -1\n",
        "\n",
        "    def remove(self, key: int) -> None:\n",
        "        h = self._hash(key)\n",
        "        self.buckets[h] = [(k, v) for k, v in self.buckets[h] if k != key]\n",
        "\n",
        "# Example usage:\n",
        "obj = MyHashMap()\n",
        "obj.put(1, 10)\n",
        "obj.put(2, 20)\n",
        "print(obj.get(1))\n",
        "print(obj.get(3))\n",
        "obj.put(2, 30)\n",
        "print(obj.get(2))\n",
        "obj.remove(2)\n",
        "print(obj.get(2))\n"
      ],
      "metadata": {
        "colab": {
          "base_uri": "https://localhost:8080/"
        },
        "id": "HEgZpW7r9FkB",
        "outputId": "c6c3ae37-c43e-4fed-b563-2a2faba83828"
      },
      "execution_count": null,
      "outputs": [
        {
          "output_type": "stream",
          "name": "stdout",
          "text": [
            "10\n",
            "-1\n",
            "30\n",
            "-1\n"
          ]
        }
      ]
    },
    {
      "cell_type": "code",
      "source": [],
      "metadata": {
        "id": "bn8lppGM9PLm"
      },
      "execution_count": null,
      "outputs": []
    }
  ]
}